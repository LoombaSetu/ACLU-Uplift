{
 "cells": [
  {
   "cell_type": "markdown",
   "metadata": {},
   "source": [
    "This notebook is an introduction to using CausalML for uplift modeling. The code focuses on data simulation, use of meta-learners to estimate Individual Treatment Effect and Conditional Average Treatment Effect. "
   ]
  },
  {
   "cell_type": "code",
   "execution_count": 3,
   "metadata": {},
   "outputs": [],
   "source": [
    "import numpy as np\n",
    "import pandas as pd\n",
    "np.random.seed(42)"
   ]
  },
  {
   "cell_type": "code",
   "execution_count": 5,
   "metadata": {},
   "outputs": [],
   "source": [
    "def generate_synthetic_data(num_records):\n",
    "    data = {\n",
    "        'Individual_ID': range(1, num_records + 1),\n",
    "        'Ind_Location': np.random.choice(['NY', 'CA', 'TX', 'FL', 'IL'], size=num_records),\n",
    "        'Ind_Age': np.random.randint(18, 65, size=num_records),\n",
    "        'Ind_Sex': np.random.choice(['M', 'F', 'Others'], size=num_records),\n",
    "        'Email_Promotion': np.random.randint(2, size=num_records),\n",
    "        'Text_Promotion': np.random.randint(2, size=num_records),\n",
    "        'Ind_Status': np.random.randint(2, size=num_records),\n",
    "        'Acq_Status': np.random.choice([0, 1, 99], size=num_records),\n",
    "        'Spend_Value_Base': np.where(np.random.randint(2, size=num_records), np.random.uniform(50, 500, size=num_records), 0),\n",
    "        'Spend_Value_New': np.where(np.random.randint(2, size=num_records), np.random.uniform(50, 500, size=num_records), 0),\n",
    "    }\n",
    "    df = pd.DataFrame(data)\n",
    "    return df"
   ]
  },
  {
   "cell_type": "code",
   "execution_count": 8,
   "metadata": {},
   "outputs": [],
   "source": [
    "synthetic_data_manual = generate_synthetic_data(1000)"
   ]
  },
  {
   "cell_type": "code",
   "execution_count": 9,
   "metadata": {},
   "outputs": [
    {
     "data": {
      "text/html": [
       "<div>\n",
       "<style scoped>\n",
       "    .dataframe tbody tr th:only-of-type {\n",
       "        vertical-align: middle;\n",
       "    }\n",
       "\n",
       "    .dataframe tbody tr th {\n",
       "        vertical-align: top;\n",
       "    }\n",
       "\n",
       "    .dataframe thead th {\n",
       "        text-align: right;\n",
       "    }\n",
       "</style>\n",
       "<table border=\"1\" class=\"dataframe\">\n",
       "  <thead>\n",
       "    <tr style=\"text-align: right;\">\n",
       "      <th></th>\n",
       "      <th>Individual_ID</th>\n",
       "      <th>Ind_Location</th>\n",
       "      <th>Ind_Age</th>\n",
       "      <th>Ind_Sex</th>\n",
       "      <th>Email_Promotion</th>\n",
       "      <th>Text_Promotion</th>\n",
       "      <th>Ind_Status</th>\n",
       "      <th>Acq_Status</th>\n",
       "      <th>Spend_Value_Base</th>\n",
       "      <th>Spend_Value_New</th>\n",
       "    </tr>\n",
       "  </thead>\n",
       "  <tbody>\n",
       "    <tr>\n",
       "      <th>0</th>\n",
       "      <td>1</td>\n",
       "      <td>IL</td>\n",
       "      <td>33</td>\n",
       "      <td>M</td>\n",
       "      <td>0</td>\n",
       "      <td>0</td>\n",
       "      <td>1</td>\n",
       "      <td>99</td>\n",
       "      <td>108.231350</td>\n",
       "      <td>0.000000</td>\n",
       "    </tr>\n",
       "    <tr>\n",
       "      <th>1</th>\n",
       "      <td>2</td>\n",
       "      <td>CA</td>\n",
       "      <td>60</td>\n",
       "      <td>Others</td>\n",
       "      <td>0</td>\n",
       "      <td>1</td>\n",
       "      <td>1</td>\n",
       "      <td>99</td>\n",
       "      <td>163.248996</td>\n",
       "      <td>356.808565</td>\n",
       "    </tr>\n",
       "    <tr>\n",
       "      <th>2</th>\n",
       "      <td>3</td>\n",
       "      <td>FL</td>\n",
       "      <td>59</td>\n",
       "      <td>F</td>\n",
       "      <td>1</td>\n",
       "      <td>0</td>\n",
       "      <td>1</td>\n",
       "      <td>1</td>\n",
       "      <td>0.000000</td>\n",
       "      <td>0.000000</td>\n",
       "    </tr>\n",
       "    <tr>\n",
       "      <th>3</th>\n",
       "      <td>4</td>\n",
       "      <td>TX</td>\n",
       "      <td>34</td>\n",
       "      <td>Others</td>\n",
       "      <td>0</td>\n",
       "      <td>1</td>\n",
       "      <td>1</td>\n",
       "      <td>0</td>\n",
       "      <td>0.000000</td>\n",
       "      <td>158.752052</td>\n",
       "    </tr>\n",
       "    <tr>\n",
       "      <th>4</th>\n",
       "      <td>5</td>\n",
       "      <td>FL</td>\n",
       "      <td>63</td>\n",
       "      <td>F</td>\n",
       "      <td>1</td>\n",
       "      <td>0</td>\n",
       "      <td>1</td>\n",
       "      <td>0</td>\n",
       "      <td>112.112424</td>\n",
       "      <td>0.000000</td>\n",
       "    </tr>\n",
       "  </tbody>\n",
       "</table>\n",
       "</div>"
      ],
      "text/plain": [
       "   Individual_ID Ind_Location  Ind_Age Ind_Sex  Email_Promotion  \\\n",
       "0              1           IL       33       M                0   \n",
       "1              2           CA       60  Others                0   \n",
       "2              3           FL       59       F                1   \n",
       "3              4           TX       34  Others                0   \n",
       "4              5           FL       63       F                1   \n",
       "\n",
       "   Text_Promotion  Ind_Status  Acq_Status  Spend_Value_Base  Spend_Value_New  \n",
       "0               0           1          99        108.231350         0.000000  \n",
       "1               1           1          99        163.248996       356.808565  \n",
       "2               0           1           1          0.000000         0.000000  \n",
       "3               1           1           0          0.000000       158.752052  \n",
       "4               0           1           0        112.112424         0.000000  "
      ]
     },
     "execution_count": 9,
     "metadata": {},
     "output_type": "execute_result"
    }
   ],
   "source": [
    "synthetic_data_manual.head()"
   ]
  },
  {
   "cell_type": "code",
   "execution_count": null,
   "metadata": {},
   "outputs": [],
   "source": []
  }
 ],
 "metadata": {
  "kernelspec": {
   "display_name": "Python 3",
   "language": "python",
   "name": "python3"
  },
  "language_info": {
   "codemirror_mode": {
    "name": "ipython",
    "version": 3
   },
   "file_extension": ".py",
   "mimetype": "text/x-python",
   "name": "python",
   "nbconvert_exporter": "python",
   "pygments_lexer": "ipython3",
   "version": "3.11.2"
  }
 },
 "nbformat": 4,
 "nbformat_minor": 2
}
